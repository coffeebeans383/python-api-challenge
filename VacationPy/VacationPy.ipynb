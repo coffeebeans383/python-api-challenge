{
 "cells": [
  {
   "cell_type": "code",
   "execution_count": 6,
   "metadata": {},
   "outputs": [],
   "source": [
    "# Dependencies\n",
    "import pandas as pd\n",
    "import numpy as np\n",
    "import matplotlib.pyplot as plt\n",
    "import json\n",
    "import requests\n",
    "import time\n",
    "import random\n",
    "import gmaps\n",
    "import os\n"
   ]
  },
  {
   "cell_type": "code",
   "execution_count": 7,
   "metadata": {},
   "outputs": [],
   "source": [
    "\n",
    "from config import Gkey\n"
   ]
  },
  {
   "cell_type": "code",
   "execution_count": 8,
   "metadata": {},
   "outputs": [
    {
     "data": {
      "text/html": [
       "<div>\n",
       "<style scoped>\n",
       "    .dataframe tbody tr th:only-of-type {\n",
       "        vertical-align: middle;\n",
       "    }\n",
       "\n",
       "    .dataframe tbody tr th {\n",
       "        vertical-align: top;\n",
       "    }\n",
       "\n",
       "    .dataframe thead th {\n",
       "        text-align: right;\n",
       "    }\n",
       "</style>\n",
       "<table border=\"1\" class=\"dataframe\">\n",
       "  <thead>\n",
       "    <tr style=\"text-align: right;\">\n",
       "      <th></th>\n",
       "      <th>Unnamed: 0</th>\n",
       "      <th>city</th>\n",
       "      <th>latitude</th>\n",
       "      <th>longitude</th>\n",
       "      <th>temperature</th>\n",
       "      <th>humidity</th>\n",
       "      <th>cloudiness</th>\n",
       "      <th>wind speed</th>\n",
       "      <th>country</th>\n",
       "    </tr>\n",
       "  </thead>\n",
       "  <tbody>\n",
       "    <tr>\n",
       "      <th>0</th>\n",
       "      <td>0</td>\n",
       "      <td>Mataura</td>\n",
       "      <td>-46.1927</td>\n",
       "      <td>168.8643</td>\n",
       "      <td>46.27</td>\n",
       "      <td>73</td>\n",
       "      <td>5</td>\n",
       "      <td>2.71</td>\n",
       "      <td>NZ</td>\n",
       "    </tr>\n",
       "    <tr>\n",
       "      <th>1</th>\n",
       "      <td>1</td>\n",
       "      <td>Ushuaia</td>\n",
       "      <td>-54.8000</td>\n",
       "      <td>-68.3000</td>\n",
       "      <td>30.94</td>\n",
       "      <td>91</td>\n",
       "      <td>77</td>\n",
       "      <td>3.49</td>\n",
       "      <td>AR</td>\n",
       "    </tr>\n",
       "    <tr>\n",
       "      <th>2</th>\n",
       "      <td>2</td>\n",
       "      <td>Sun City West</td>\n",
       "      <td>33.6620</td>\n",
       "      <td>-112.3413</td>\n",
       "      <td>98.29</td>\n",
       "      <td>19</td>\n",
       "      <td>4</td>\n",
       "      <td>2.73</td>\n",
       "      <td>US</td>\n",
       "    </tr>\n",
       "    <tr>\n",
       "      <th>3</th>\n",
       "      <td>3</td>\n",
       "      <td>Hasaki</td>\n",
       "      <td>35.7333</td>\n",
       "      <td>140.8333</td>\n",
       "      <td>84.45</td>\n",
       "      <td>71</td>\n",
       "      <td>87</td>\n",
       "      <td>22.86</td>\n",
       "      <td>JP</td>\n",
       "    </tr>\n",
       "    <tr>\n",
       "      <th>4</th>\n",
       "      <td>4</td>\n",
       "      <td>Ribeira Grande</td>\n",
       "      <td>38.5167</td>\n",
       "      <td>-28.7000</td>\n",
       "      <td>73.02</td>\n",
       "      <td>91</td>\n",
       "      <td>11</td>\n",
       "      <td>3.06</td>\n",
       "      <td>PT</td>\n",
       "    </tr>\n",
       "  </tbody>\n",
       "</table>\n",
       "</div>"
      ],
      "text/plain": [
       "   Unnamed: 0            city  latitude  longitude  temperature  humidity  \\\n",
       "0           0         Mataura  -46.1927   168.8643        46.27        73   \n",
       "1           1         Ushuaia  -54.8000   -68.3000        30.94        91   \n",
       "2           2   Sun City West   33.6620  -112.3413        98.29        19   \n",
       "3           3          Hasaki   35.7333   140.8333        84.45        71   \n",
       "4           4  Ribeira Grande   38.5167   -28.7000        73.02        91   \n",
       "\n",
       "   cloudiness  wind speed country  \n",
       "0           5        2.71      NZ  \n",
       "1          77        3.49      AR  \n",
       "2           4        2.73      US  \n",
       "3          87       22.86      JP  \n",
       "4          11        3.06      PT  "
      ]
     },
     "execution_count": 8,
     "metadata": {},
     "output_type": "execute_result"
    }
   ],
   "source": [
    "weather_data = pd.read_csv(\"../WeatherPy/output data/weather_output.csv\")\n",
    "weather_df = pd.DataFrame(weather_data)\n",
    "weather_df.head()"
   ]
  },
  {
   "cell_type": "code",
   "execution_count": 9,
   "metadata": {},
   "outputs": [
    {
     "data": {
      "text/plain": [
       "Unnamed: 0     683\n",
       "city           683\n",
       "latitude       683\n",
       "longitude      683\n",
       "temperature    683\n",
       "humidity       683\n",
       "cloudiness     683\n",
       "wind speed     683\n",
       "country        679\n",
       "dtype: int64"
      ]
     },
     "execution_count": 9,
     "metadata": {},
     "output_type": "execute_result"
    }
   ],
   "source": [
    "weather_df.count()"
   ]
  },
  {
   "cell_type": "code",
   "execution_count": 10,
   "metadata": {},
   "outputs": [],
   "source": [
    "geo = weather_df[['latitude','longitude']]\n",
    "city = weather_df[['city']]\n",
    "humidity = weather_df['humidity']"
   ]
  },
  {
   "cell_type": "code",
   "execution_count": 12,
   "metadata": {
    "scrolled": true
   },
   "outputs": [
    {
     "data": {
      "application/vnd.jupyter.widget-view+json": {
       "model_id": "a8f7944f0a8147cfa715880bc8bcf823",
       "version_major": 2,
       "version_minor": 0
      },
      "text/plain": [
       "Figure(layout=FigureLayout(height='420px'))"
      ]
     },
     "metadata": {},
     "output_type": "display_data"
    }
   ],
   "source": [
    "#Create a heat map that displays the humidity for every city from the part I of the homework.\n",
    "# Create a poverty Heatmap layer\n",
    "fig = gmaps.figure()\n",
    "\n",
    "heat_layer = gmaps.heatmap_layer(geo, weights=humidity, \n",
    "                                 dissipating=False, max_intensity=100,\n",
    "                                 point_radius = 1)\n",
    "\n",
    "fig.add_layer(heat_layer)\n",
    "fig"
   ]
  },
  {
   "cell_type": "code",
   "execution_count": 13,
   "metadata": {},
   "outputs": [
    {
     "data": {
      "text/plain": [
       "Unnamed: 0     149\n",
       "city           149\n",
       "latitude       149\n",
       "longitude      149\n",
       "temperature    149\n",
       "humidity       149\n",
       "cloudiness     149\n",
       "wind speed     149\n",
       "country        146\n",
       "dtype: int64"
      ]
     },
     "execution_count": 13,
     "metadata": {},
     "output_type": "execute_result"
    }
   ],
   "source": [
    "#Narrow down the DataFrame to find your ideal weather condition.\n",
    "  #A max temperature lower than 90 degrees but higher than 70.\n",
    "  #Wind speed less than 15 mph.\n",
    "  #mostly sunny - less than or equal to 10% cloudiness.\n",
    "    \n",
    "vacation_df = weather_df.loc[(weather_df['temperature']<=90)|\n",
    "                             (weather_df['temperature']>=75)\n",
    "                            ,:]\n",
    "vacation_df = vacation_df.loc[vacation_df['wind speed']<15,:]\n",
    "vacation_df = vacation_df.loc[vacation_df['cloudiness']<=10,:]\n",
    "vacation_df.dropna(how='all')\n",
    "vacation_df.count()"
   ]
  },
  {
   "cell_type": "code",
   "execution_count": null,
   "metadata": {},
   "outputs": [],
   "source": []
  },
  {
   "cell_type": "markdown",
   "metadata": {},
   "source": []
  },
  {
   "cell_type": "code",
   "execution_count": 15,
   "metadata": {
    "scrolled": true
   },
   "outputs": [
    {
     "ename": "SyntaxError",
     "evalue": "invalid syntax (<ipython-input-15-3d370263b6cc>, line 23)",
     "output_type": "error",
     "traceback": [
      "\u001b[1;36m  File \u001b[1;32m\"<ipython-input-15-3d370263b6cc>\"\u001b[1;36m, line \u001b[1;32m23\u001b[0m\n\u001b[1;33m    response = requests.get(\"https://maps.googleapis.com/maps/api/place/textsearch/json?query=hotel+near+Hasaki&key=Gkey)\u001b[0m\n\u001b[1;37m           ^\u001b[0m\n\u001b[1;31mSyntaxError\u001b[0m\u001b[1;31m:\u001b[0m invalid syntax\n"
     ]
    }
   ],
   "source": [
    "#https://developers.google.com/places/web-service/search\n",
    "#https://developers.google.com/places/web-service/supported_types\n",
    "# geocoordinates\n",
    "target_coordinates = \"43.6187102, -116.2146068\"\n",
    "target_search = \"hotel\"\n",
    "target_radius = 5000\n",
    "target_type = \"lodging\"\n",
    "\n",
    "# set up a parameters dictionary\n",
    "params = {\n",
    "    \"location\": target_coordinates,\n",
    "    \"radius\": target_radius,\n",
    "    \"query\": target_search,\n",
    "    \"types\": target_type,\n",
    "    \"key\": Gkey\n",
    "    \n",
    "    # base url\n",
    "#base_url = \"https://maps.googleapis.com/maps/api/place/nearbysearch/json\"\n",
    "#url_text = \"https://maps.googleapis.com/maps/api/place/textsearch/json\"\n",
    "# run a request using our params dictionary\n",
    "#response = requests.get(url_text,params=params)\n",
    "#jsn = requested.json()\n",
    "response = requests.get(\"https://maps.googleapis.com/maps/api/place/textsearch/json?query=hotel+near+Hasaki&key=Gkey)\n",
    "jsn = requested.json()                        \n",
    "                        "
   ]
  },
  {
   "cell_type": "code",
   "execution_count": 183,
   "metadata": {},
   "outputs": [
    {
     "name": "stdout",
     "output_type": "stream",
     "text": [
      "{'html_attributions': [], 'next_page_token': 'CqQCHAEAAIj9acErMzJ8oAVe4n42SWYMEE8QQD1t7YAFpMr2Pv1IOAOUqM2-fk0VIbFQDwbt53nOEIJ5_buQJnUWR7fwYbr2Jx1p1_N2YElIrwNRng5E4AeYcnA3ykw8hw0ZV3jFUZq2KZVv57o4l_yEB7jvpXaiDZWxLN6QbItlLsWZIXozv4Clw99cj0VpWCNIrSKGCm8Fzrx1LM253yR5nqUX5hxEBu9hO1qa0BQBnGqkEJR30tv56mbVdy0CbOSu72YXCrxJaaBMrpz9PX51KsUti21pXIt2bOolLQRedum2r4n9j_SgK96c9mlKsVnEIsrvHHDgK6XgFprvoNnRtvcTFN8US7mBngsykWYTWRLO-VS9GFeyFFlTpi4tdv8WbRFbJhIQvCYALFTYQTs4ZyjtvkSLnhoUBml9GLBs0InPNYJDeH_DD7xnaeM', 'results': [{'formatted_address': 'Mataura, New Zealand', 'geometry': {'location': {'lat': -46.19392199999999, 'lng': 168.8655083}, 'viewport': {'northeast': {'lat': -46.1722826, 'lng': 168.8888499}, 'southwest': {'lat': -46.2258073, 'lng': 168.7964022}}}, 'icon': 'https://maps.gstatic.com/mapfiles/place_api/icons/geocode-71.png', 'id': '06e763d87b5f373d4feebda92f4a44e358f28e33', 'name': 'Mataura', 'photos': [{'height': 3456, 'html_attributions': ['<a href=\"https://maps.google.com/maps/contrib/112542409278854009173\">Michael Bell</a>'], 'photo_reference': 'CmRaAAAAu_fRdyjR5KahlnzK9Nepd_3P6w5u5gqLXA8qzmZQ4-gUGvmI_Q5vYGzcYJHvnQLgjqIrzfizTTQfy2zCTiuXG8PiROYOjiMIdbiK6e-tRW_YfSMwtOGLbXJw64ud3CziEhBSq1fCIrB3gvpgWTNrvcdMGhRtszxFByn6Mh2GofPebMDg5vu-ug', 'width': 4608}], 'place_id': 'ChIJtWyjc1LRLKgRMIx5hIbvAAU', 'reference': 'ChIJtWyjc1LRLKgRMIx5hIbvAAU', 'types': ['locality', 'political']}, {'formatted_address': 'Waimumu 9774, New Zealand', 'geometry': {'location': {'lat': -46.1487494, 'lng': 168.7910696}, 'viewport': {'northeast': {'lat': -46.07204369999999, 'lng': 168.9048575}, 'southwest': {'lat': -46.1854221, 'lng': 168.7082293}}}, 'icon': 'https://maps.gstatic.com/mapfiles/place_api/icons/geocode-71.png', 'id': '338f8ded41161012fb648ebbc8ac2eb0a017246a', 'name': 'Waimumu', 'place_id': 'ChIJOSlWMxzSLKgRsHZ5hIbvAAU', 'reference': 'ChIJOSlWMxzSLKgRsHZ5hIbvAAU', 'types': ['locality', 'political']}, {'business_status': 'OPERATIONAL', 'formatted_address': '15 Dunns Road, Mataura 9712, New Zealand', 'geometry': {'location': {'lat': -46.2019435, 'lng': 168.8550432}, 'viewport': {'northeast': {'lat': -46.2007562197085, 'lng': 168.8562961302915}, 'southwest': {'lat': -46.2034541802915, 'lng': 168.8535981697085}}}, 'icon': 'https://maps.gstatic.com/mapfiles/place_api/icons/generic_business-71.png', 'id': 'fe703385bd796da8908554e1f2a9f8356f9aca3b', 'name': \"Ellie's Villa\", 'opening_hours': {'open_now': False}, 'photos': [{'height': 2448, 'html_attributions': ['<a href=\"https://maps.google.com/maps/contrib/118406964362549862390\">Ellie&#39;s Villa</a>'], 'photo_reference': 'CmRaAAAAsXPObxz5rcZcMaydy_XApetoDQTiWAEV7GLYwo5cDI65KRIPym_6XY1DHPx-Qly-ZDh-WZcbKIx_Ju5UJ0kcpyUvGT6us-EuUSda9ruoa83xav2l6Sd5Sv5iSnSkVs7SEhDkFSnNLQDp2LLVHPg7MXesGhT1pXdX7WUdkRB7W2fdzBq7ns3A3A', 'width': 3264}], 'place_id': 'ChIJfzn9aTPRLKgRXVLTPWbIkoU', 'plus_code': {'compound_code': 'QVX4+62 Mataura, Southland, New Zealand', 'global_code': '4V5CQVX4+62'}, 'rating': 5, 'reference': 'ChIJfzn9aTPRLKgRXVLTPWbIkoU', 'types': ['lodging', 'point_of_interest', 'establishment'], 'user_ratings_total': 2}, {'business_status': 'OPERATIONAL', 'formatted_address': 'No 2/588 Crawford Road, RD Gore, Invercargill 9772, New Zealand', 'geometry': {'location': {'lat': -46.2232486, 'lng': 168.9051637}, 'viewport': {'northeast': {'lat': -46.2217802197085, 'lng': 168.9064138302915}, 'southwest': {'lat': -46.22447818029149, 'lng': 168.9037158697085}}}, 'icon': 'https://maps.gstatic.com/mapfiles/place_api/icons/lodging-71.png', 'id': 'e346ed8e26a27470bcf101d659270a5e0930bf13', 'name': 'Southland Organic Farmstay', 'place_id': 'ChIJibLEb1zXLKgRO92x0A7i86U', 'plus_code': {'compound_code': 'QWG4+P3 Waikana, Southland, New Zealand', 'global_code': '4V5CQWG4+P3'}, 'rating': 5, 'reference': 'ChIJibLEb1zXLKgRO92x0A7i86U', 'types': ['lodging', 'point_of_interest', 'establishment'], 'user_ratings_total': 1}, {'business_status': 'OPERATIONAL', 'formatted_address': '12 River Street, Mataura 9712, New Zealand', 'geometry': {'location': {'lat': -46.198325, 'lng': 168.862233}, 'viewport': {'northeast': {'lat': -46.19702146970849, 'lng': 168.8637411802915}, 'southwest': {'lat': -46.19971943029149, 'lng': 168.8610432197085}}}, 'icon': 'https://maps.gstatic.com/mapfiles/place_api/icons/lodging-71.png', 'id': 'fa3d5da125ee3fbd1e679dbc671bad0c8f6c62f9', 'name': 'River Retreat', 'opening_hours': {'open_now': True}, 'photos': [{'height': 4902, 'html_attributions': ['<a href=\"https://maps.google.com/maps/contrib/111193565278801892317\">River Retreat</a>'], 'photo_reference': 'CmRaAAAA1ZNneZo-PrtVtQqQziyaAjgDzRFdLSG2tnTeM_bXX3hLbYvRz-Vk5p2aKK7HD6VNWIu3QIhnnxJt52243DGwJrNX4UxFhgjlKql34ZiMFP78q_QkykbJ3NigcMrozT88EhAz_FlchZQRIcfL0Ff-cDLeGhTSFEW6KImX0SBmA6PGuARsWGZ73w', 'width': 7355}], 'place_id': 'ChIJJe6TGi7RLKgRS18aePtnDwI', 'plus_code': {'compound_code': 'RV26+MV Mataura, Southland, New Zealand', 'global_code': '4V5CRV26+MV'}, 'rating': 4.8, 'reference': 'ChIJJe6TGi7RLKgRS18aePtnDwI', 'types': ['lodging', 'point_of_interest', 'establishment'], 'user_ratings_total': 8}, {'business_status': 'OPERATIONAL', 'formatted_address': '183 Main Street, Mataura 9712, New Zealand', 'geometry': {'location': {'lat': -46.1882948, 'lng': 168.871452}, 'viewport': {'northeast': {'lat': -46.18700851970851, 'lng': 168.8729223302915}, 'southwest': {'lat': -46.1897064802915, 'lng': 168.8702243697085}}}, 'icon': 'https://maps.gstatic.com/mapfiles/place_api/icons/generic_business-71.png', 'id': 'cff5ffb00652a6b9e5c4cffef8ca8ea2fde53ccf', 'name': 'Harcourts (W Thompson & Co Ltd)', 'place_id': 'ChIJSYs20SPRLKgRJHT36xri0Yw', 'plus_code': {'compound_code': 'RV6C+MH Mataura, Southland, New Zealand', 'global_code': '4V5CRV6C+MH'}, 'rating': 3.5, 'reference': 'ChIJSYs20SPRLKgRJHT36xri0Yw', 'types': ['point_of_interest', 'establishment'], 'user_ratings_total': 2}, {'business_status': 'OPERATIONAL', 'formatted_address': '11 Bridge Street, Mataura 9712, New Zealand', 'geometry': {'location': {'lat': -46.19414010000001, 'lng': 168.8667777}, 'viewport': {'northeast': {'lat': -46.19289136970851, 'lng': 168.8680802302915}, 'southwest': {'lat': -46.1955893302915, 'lng': 168.8653822697085}}}, 'icon': 'https://maps.gstatic.com/mapfiles/place_api/icons/generic_business-71.png', 'id': '2fda714555c47c7ce4f45757bbc70fe30349892f', 'name': 'Mataura Medical Centre', 'opening_hours': {'open_now': False}, 'photos': [{'height': 3456, 'html_attributions': ['<a href=\"https://maps.google.com/maps/contrib/115371310925918430565\">Gary Russell</a>'], 'photo_reference': 'CmRaAAAACIxd-Mb3xW94W1Js8FyPkHoab4WwxH4C8-lpEidd2McGKGmOS7Q9k3lBJwI-k46Nr_i-GTNvFATiGNYWLw00Omz2__LDgvGJJLVhOHtYMqmrKmTYvdtQafDWVbODbTmAEhDwCgUpTIli6AndzydDPK_oGhR2HWYvdTYz_QVVTBdEtb8R__YXHg', 'width': 5184}], 'place_id': 'ChIJTfLthCXRLKgRH_WdDDSCOzI', 'plus_code': {'compound_code': 'RV48+8P Mataura, Southland, New Zealand', 'global_code': '4V5CRV48+8P'}, 'rating': 4.3, 'reference': 'ChIJTfLthCXRLKgRH_WdDDSCOzI', 'types': ['doctor', 'health', 'point_of_interest', 'establishment'], 'user_ratings_total': 9}, {'business_status': 'OPERATIONAL', 'formatted_address': '205 Main Street, Gore 9712, New Zealand', 'geometry': {'location': {'lat': -46.1866362, 'lng': 168.8728906}, 'viewport': {'northeast': {'lat': -46.1854040697085, 'lng': 168.8744717802915}, 'southwest': {'lat': -46.1881020302915, 'lng': 168.8717738197085}}}, 'icon': 'https://maps.gstatic.com/mapfiles/place_api/icons/generic_business-71.png', 'id': '3a45ee85d5197e8cc7663b93013cc1c1f784d762', 'name': 'Clive Wilson Computers (Gore)', 'place_id': 'ChIJfzoC8yHRLKgRacjp4_b9Ks4', 'plus_code': {'compound_code': 'RV7F+85 Gore, Southland, New Zealand', 'global_code': '4V5CRV7F+85'}, 'reference': 'ChIJfzoC8yHRLKgRacjp4_b9Ks4', 'types': ['point_of_interest', 'establishment']}, {'business_status': 'OPERATIONAL', 'formatted_address': '1 Bridge Street, Mataura 9712, New Zealand', 'geometry': {'location': {'lat': -46.1940725, 'lng': 168.8663268}, 'viewport': {'northeast': {'lat': -46.1928006197085, 'lng': 168.8676312302915}, 'southwest': {'lat': -46.1954985802915, 'lng': 168.8649332697085}}}, 'icon': 'https://maps.gstatic.com/mapfiles/place_api/icons/library-71.png', 'id': '0e045eaf0910dbd727dcea58b0493f60e7149235', 'name': 'Mataura Service Centre & Library', 'opening_hours': {'open_now': False}, 'photos': [{'height': 3456, 'html_attributions': ['<a href=\"https://maps.google.com/maps/contrib/115371310925918430565\">Gary Russell</a>'], 'photo_reference': 'CmRaAAAARGv5-UXioUFv87leluCvECdgskUsle_5ZDZ2Pwe7jjxEtUMheBGiu0QqOY5_4TRcbtv9zU365KMnJAZ9POUmBCoPvUvOw86prD6sks2KMjAFTvtx0qv6Zw1cNm3HP-vvEhCaW5X0LWKEBH-rINv-6id9GhQPY7feG-gW5RuXvmbFN-rsCpy-7Q', 'width': 5184}], 'place_id': 'ChIJRzOZgiXRLKgRQhMVLJFSMFk', 'plus_code': {'compound_code': 'RV48+9G Mataura, Southland, New Zealand', 'global_code': '4V5CRV48+9G'}, 'rating': 4.3, 'reference': 'ChIJRzOZgiXRLKgRQhMVLJFSMFk', 'types': ['library', 'point_of_interest', 'establishment'], 'user_ratings_total': 4}, {'business_status': 'OPERATIONAL', 'formatted_address': '117 Main Street, Mataura 9712, New Zealand', 'geometry': {'location': {'lat': -46.193316, 'lng': 168.8655184}, 'viewport': {'northeast': {'lat': -46.1920755197085, 'lng': 168.8670547302915}, 'southwest': {'lat': -46.1947734802915, 'lng': 168.8643567697085}}}, 'icon': 'https://maps.gstatic.com/mapfiles/place_api/icons/police-71.png', 'id': 'cf7a82d66b424682f75adb1625a6a27483d8c4c4', 'name': 'NZ Police', 'place_id': 'ChIJlRC0bCXRLKgRpKgcXqDZUDI', 'plus_code': {'compound_code': 'RV48+M6 Mataura, Southland, New Zealand', 'global_code': '4V5CRV48+M6'}, 'reference': 'ChIJlRC0bCXRLKgRpKgcXqDZUDI', 'types': ['police', 'point_of_interest', 'establishment']}, {'business_status': 'OPERATIONAL', 'formatted_address': '12b Bridge Street, Mataura 9712, New Zealand', 'geometry': {'location': {'lat': -46.1992553, 'lng': 168.8664138}, 'viewport': {'northeast': {'lat': -46.1978835197085, 'lng': 168.8677686802915}, 'southwest': {'lat': -46.2005814802915, 'lng': 168.8650707197085}}}, 'icon': 'https://maps.gstatic.com/mapfiles/place_api/icons/shopping-71.png', 'id': 'a5ab9231c6d9b037414491dba74f1d15a58ff7a6', 'name': 'Lisas Florist & Gift Shop', 'photos': [{'height': 4032, 'html_attributions': ['<a href=\"https://maps.google.com/maps/contrib/111384666760915041699\">Taiawhio Waititi</a>'], 'photo_reference': 'CmRaAAAAaMuKSEO4iC2d7VazKL5PCPuVPNl42r8B7qRDllaoTjIB_2ENEZvg3-daiUbhaFyz6ZiLtF8AA1nseSF3ioPCnCxCrzrhVtMSb1SZ1XlVkTPDM5eg9lGAv2EG_HL6SKVIEhANXyqRu5XjwfarVN3GNO3EGhQQdG8W7anEJRoKw2WBKjeXBlUssg', 'width': 3024}], 'place_id': 'ChIJvWaPpy7RLKgRpYbDWnk8diU', 'plus_code': {'compound_code': 'RV28+7H Mataura, Southland, New Zealand', 'global_code': '4V5CRV28+7H'}, 'rating': 5, 'reference': 'ChIJvWaPpy7RLKgRpYbDWnk8diU', 'types': ['florist', 'point_of_interest', 'store', 'establishment'], 'user_ratings_total': 6}, {'business_status': 'OPERATIONAL', 'formatted_address': 'Cnr State Highway 1 &, Dover Street, Mataura 9710, New Zealand', 'geometry': {'location': {'lat': -46.192937, 'lng': 168.8663504}, 'viewport': {'northeast': {'lat': -46.1915083197085, 'lng': 168.8677937302915}, 'southwest': {'lat': -46.1942062802915, 'lng': 168.8650957697085}}}, 'icon': 'https://maps.gstatic.com/mapfiles/place_api/icons/gas_station-71.png', 'id': '409c2b011765a4e8353e926bd67390a78392674d', 'name': 'Caltex - Mataura', 'opening_hours': {'open_now': False}, 'photos': [{'height': 635, 'html_attributions': ['<a href=\"https://maps.google.com/maps/contrib/107549487040103046799\">Caltex - Mataura</a>'], 'photo_reference': 'CmRaAAAAKlxrqPvvegjtKc9D42tNezfSTh0WNuFyy4CmhY232DLVLbIaR50sgFlsHZGvRSud0ETD8k6TVRfux_ngAOjAvgOod_wC-RvjaY0yA4E-FHAGRwoazpT1NSgxWZPgWhAKEhCD9DvrdqjyTN7H8oe7767SGhTNbe9SRAdiED8zgcUegbpnJMVLpA', 'width': 1452}], 'place_id': 'ChIJ14y6DyXRLKgRwzTP3z5-lBI', 'plus_code': {'compound_code': 'RV48+RG Mataura, Southland, New Zealand', 'global_code': '4V5CRV48+RG'}, 'rating': 4.4, 'reference': 'ChIJ14y6DyXRLKgRwzTP3z5-lBI', 'types': ['gas_station', 'point_of_interest', 'establishment'], 'user_ratings_total': 60}, {'business_status': 'OPERATIONAL', 'formatted_address': '2 Main Street, Mataura 9712, New Zealand', 'geometry': {'location': {'lat': -46.20069839999999, 'lng': 168.8543512}, 'viewport': {'northeast': {'lat': -46.1993178197085, 'lng': 168.8556318802915}, 'southwest': {'lat': -46.2020157802915, 'lng': 168.8529339197085}}}, 'icon': 'https://maps.gstatic.com/mapfiles/place_api/icons/generic_business-71.png', 'id': '6c2ff6bf8ef99e0e93971e319b7126539995bf86', 'name': 'Tab', 'place_id': 'ChIJ3ZWVfzPRLKgRH5gwJLqIxjU', 'plus_code': {'compound_code': 'QVX3+PP Mataura, Southland, New Zealand', 'global_code': '4V5CQVX3+PP'}, 'rating': 5, 'reference': 'ChIJ3ZWVfzPRLKgRH5gwJLqIxjU', 'types': ['point_of_interest', 'establishment'], 'user_ratings_total': 1}, {'business_status': 'OPERATIONAL', 'formatted_address': '3 Nuffield Street, Mataura 9712, New Zealand', 'geometry': {'location': {'lat': -46.1952278, 'lng': 168.8619328}, 'viewport': {'northeast': {'lat': -46.19386241970849, 'lng': 168.8633115802915}, 'southwest': {'lat': -46.19656038029149, 'lng': 168.8606136197085}}}, 'icon': 'https://maps.gstatic.com/mapfiles/place_api/icons/generic_business-71.png', 'id': 'fc2934e935f485ed5b013442da443023fbac6aa5', 'name': 'World Vision New Zealand', 'opening_hours': {'open_now': False}, 'place_id': 'ChIJ13XHFzDRLKgRfncqSGCbbaw', 'plus_code': {'compound_code': 'RV36+WQ Mataura, Southland, New Zealand', 'global_code': '4V5CRV36+WQ'}, 'rating': 3, 'reference': 'ChIJ13XHFzDRLKgRfncqSGCbbaw', 'types': ['point_of_interest', 'establishment'], 'user_ratings_total': 2}, {'business_status': 'OPERATIONAL', 'formatted_address': '80A Main Street, Gore 9712, New Zealand', 'geometry': {'location': {'lat': -46.19607879999999, 'lng': 168.8623024}, 'viewport': {'northeast': {'lat': -46.19468596970849, 'lng': 168.8636013302915}, 'southwest': {'lat': -46.19738393029149, 'lng': 168.8609033697085}}}, 'icon': 'https://maps.gstatic.com/mapfiles/place_api/icons/generic_business-71.png', 'id': '0c1dc4e86ba1714cd9c0e0d96d187a2bee3cb0ed', 'name': 'Crowe Horwath NZ', 'opening_hours': {'open_now': False}, 'place_id': 'ChIJEw9H1i_RLKgRSbBf_Z1dhow', 'plus_code': {'compound_code': 'RV36+HW Gore, Southland, New Zealand', 'global_code': '4V5CRV36+HW'}, 'reference': 'ChIJEw9H1i_RLKgRSbBf_Z1dhow', 'types': ['point_of_interest', 'establishment']}, {'business_status': 'OPERATIONAL', 'formatted_address': 'Mataura 9712, New Zealand', 'geometry': {'location': {'lat': -46.1934288, 'lng': 168.8660155}, 'viewport': {'northeast': {'lat': -46.1920607197085, 'lng': 168.8673307302915}, 'southwest': {'lat': -46.1947586802915, 'lng': 168.8646327697085}}}, 'icon': 'https://maps.gstatic.com/mapfiles/place_api/icons/generic_business-71.png', 'id': '45e48a2fb4fb458570997115595deddf9b59424e', 'name': 'Southern Kiwivac Central Vacuum Systems', 'place_id': 'ChIJjWcYcyXRLKgR_MpgxGxaB3Q', 'reference': 'ChIJjWcYcyXRLKgR_MpgxGxaB3Q', 'types': ['point_of_interest', 'establishment']}, {'business_status': 'OPERATIONAL', 'formatted_address': '60 Kana Street, Mataura 9772, New Zealand', 'geometry': {'location': {'lat': -46.19758929999999, 'lng': 168.8684346}, 'viewport': {'northeast': {'lat': -46.1962150197085, 'lng': 168.8695852802915}, 'southwest': {'lat': -46.1989129802915, 'lng': 168.8668873197085}}}, 'icon': 'https://maps.gstatic.com/mapfiles/place_api/icons/worship_general-71.png', 'id': '221ab9ae35c3a5c1e699bd106598462ff873b2ee', 'name': 'Presbyterian Church', 'photos': [{'height': 2645, 'html_attributions': ['<a href=\"https://maps.google.com/maps/contrib/115371310925918430565\">Gary Russell</a>'], 'photo_reference': 'CmRaAAAA9s702YA6ITzptOz5axPVX6EoTwOYhwHP8N9FEuyN-kgznw6NcVY6Rj4OJjiOmVQTOp9Dfoi5DOu9H1-5mgCfMUiIk8kydfT-0Lv9y5L8VNRphclZEd-I0eQ-3w7n-_V6EhDjLsJaVCfs3yiOfUJLtm3HGhQug3qQZH8GjGqKpCBC6uEH4SGD2Q', 'width': 5183}], 'place_id': 'ChIJg4On1dfQLKgR9nC8cgqEsUY', 'plus_code': {'compound_code': 'RV29+X9 Mataura, Southland, New Zealand', 'global_code': '4V5CRV29+X9'}, 'rating': 4.4, 'reference': 'ChIJg4On1dfQLKgR9nC8cgqEsUY', 'types': ['church', 'place_of_worship', 'point_of_interest', 'establishment'], 'user_ratings_total': 5}, {'business_status': 'OPERATIONAL', 'formatted_address': '15 Clyde Street, Mataura 9712, New Zealand', 'geometry': {'location': {'lat': -46.200654, 'lng': 168.8666407}, 'viewport': {'northeast': {'lat': -46.1993050197085, 'lng': 168.8679896802915}, 'southwest': {'lat': -46.2020029802915, 'lng': 168.8652917197085}}}, 'icon': 'https://maps.gstatic.com/mapfiles/place_api/icons/generic_business-71.png', 'id': '7cda39ca83d21d814815aea74d222c314ae5284d', 'name': 'The Order of St John', 'place_id': 'ChIJV87TCizRLKgRWBNKGCCmEng', 'plus_code': {'compound_code': 'QVX8+PM Mataura, Southland, New Zealand', 'global_code': '4V5CQVX8+PM'}, 'rating': 5, 'reference': 'ChIJV87TCizRLKgRWBNKGCCmEng', 'types': ['point_of_interest', 'establishment'], 'user_ratings_total': 1}, {'business_status': 'OPERATIONAL', 'formatted_address': 'Mataura 9712, New Zealand', 'geometry': {'location': {'lat': -46.1934288, 'lng': 168.8660155}, 'viewport': {'northeast': {'lat': -46.1920607197085, 'lng': 168.8673307302915}, 'southwest': {'lat': -46.1947586802915, 'lng': 168.8646327697085}}}, 'icon': 'https://maps.gstatic.com/mapfiles/place_api/icons/generic_business-71.png', 'id': '1a7b837f3fcbc525d8133c9ec2a77ba9e12eae3a', 'name': 'Tattoo Artist John', 'place_id': 'ChIJh2ga-zHRLKgRKM285iZdElI', 'reference': 'ChIJh2ga-zHRLKgRKM285iZdElI', 'types': ['point_of_interest', 'establishment']}, {'business_status': 'OPERATIONAL', 'formatted_address': '30 Main Street, Mataura 9712, New Zealand', 'geometry': {'location': {'lat': -46.1988959, 'lng': 168.8573742}, 'viewport': {'northeast': {'lat': -46.1974797197085, 'lng': 168.8586457802915}, 'southwest': {'lat': -46.2001776802915, 'lng': 168.8559478197085}}}, 'icon': 'https://maps.gstatic.com/mapfiles/place_api/icons/generic_business-71.png', 'id': 'f2d4f785140ad5a627f54449c543965beb5b3c9b', 'name': 'Lake House of Travel Gore', 'place_id': 'ChIJ4TEX2jPRLKgRtA9ekQ3keRs', 'plus_code': {'compound_code': 'RV24+CW Mataura, Southland, New Zealand', 'global_code': '4V5CRV24+CW'}, 'reference': 'ChIJ4TEX2jPRLKgRtA9ekQ3keRs', 'types': ['travel_agency', 'point_of_interest', 'establishment']}], 'status': 'OK'}\n"
     ]
    }
   ],
   "source": [
    "# print the response url, avoid doing for public github repos in order to avoid exposing key\n",
    "print(response)"
   ]
  },
  {
   "cell_type": "code",
   "execution_count": 178,
   "metadata": {},
   "outputs": [
    {
     "name": "stdout",
     "output_type": "stream",
     "text": [
      "Retrieving Results for Index 0: Teruel.\n"
     ]
    },
    {
     "ename": "AttributeError",
     "evalue": "'dict' object has no attribute 'url'",
     "output_type": "error",
     "traceback": [
      "\u001b[1;31m---------------------------------------------------------------------------\u001b[0m",
      "\u001b[1;31mAttributeError\u001b[0m                            Traceback (most recent call last)",
      "\u001b[1;32m<ipython-input-178-9aa7826eae43>\u001b[0m in \u001b[0;36m<module>\u001b[1;34m\u001b[0m\n\u001b[0;32m     11\u001b[0m     \u001b[0mprint\u001b[0m\u001b[1;33m(\u001b[0m\u001b[1;34mf\"Retrieving Results for Index {index}: {city_name}.\"\u001b[0m\u001b[1;33m)\u001b[0m\u001b[1;33m\u001b[0m\u001b[1;33m\u001b[0m\u001b[0m\n\u001b[0;32m     12\u001b[0m     \u001b[0mresponse\u001b[0m \u001b[1;33m=\u001b[0m \u001b[0mrequests\u001b[0m\u001b[1;33m.\u001b[0m\u001b[0mget\u001b[0m\u001b[1;33m(\u001b[0m\u001b[1;34mf\"https://maps.googleapis.com/maps/api/place/textsearch/json?location={latitude},{longitude}&radius=5000&type=hotel&key={Gkey}\"\u001b[0m\u001b[1;33m)\u001b[0m\u001b[1;33m.\u001b[0m\u001b[0mjson\u001b[0m\u001b[1;33m(\u001b[0m\u001b[1;33m)\u001b[0m\u001b[1;33m\u001b[0m\u001b[1;33m\u001b[0m\u001b[0m\n\u001b[1;32m---> 13\u001b[1;33m     \u001b[0mprint\u001b[0m\u001b[1;33m(\u001b[0m\u001b[0mresponse\u001b[0m\u001b[1;33m.\u001b[0m\u001b[0murl\u001b[0m\u001b[1;33m)\u001b[0m\u001b[1;33m\u001b[0m\u001b[1;33m\u001b[0m\u001b[0m\n\u001b[0m\u001b[0;32m     14\u001b[0m \u001b[1;33m\u001b[0m\u001b[0m\n",
      "\u001b[1;31mAttributeError\u001b[0m: 'dict' object has no attribute 'url'"
     ]
    }
   ],
   "source": [
    "#Using Google Places API to find the first hotel for each city located within 5000 meters of your coordinates.\n",
    "# use iterrows to iterate through pandas dataframe\n",
    "for index, row in vacation_df.iterrows():\n",
    "    \n",
    "    latitude = row['latitude']\n",
    "    longitude = row['longitude']\n",
    "    city = row['city']\n",
    "    country = row['country']\n",
    "\n",
    "    # assemble url and make API request\n",
    "    print(f\"Retrieving Results for Index {index}: {city_name}.\")\n",
    "    response = requests.get(f\"https://maps.googleapis.com/maps/api/place/textsearch/json?location={latitude},{longitude}&radius=5000&type=hotel&key={Gkey}\").json()\n",
    "\n",
    "   "
   ]
  },
  {
   "cell_type": "code",
   "execution_count": 1,
   "metadata": {},
   "outputs": [
    {
     "ename": "NameError",
     "evalue": "name 'vacation_df' is not defined",
     "output_type": "error",
     "traceback": [
      "\u001b[1;31m---------------------------------------------------------------------------\u001b[0m",
      "\u001b[1;31mNameError\u001b[0m                                 Traceback (most recent call last)",
      "\u001b[1;32m<ipython-input-1-68dbfd211f1f>\u001b[0m in \u001b[0;36m<module>\u001b[1;34m\u001b[0m\n\u001b[0;32m      1\u001b[0m \u001b[0mhotellist\u001b[0m \u001b[1;33m=\u001b[0m \u001b[1;33m[\u001b[0m\u001b[1;33m]\u001b[0m\u001b[1;33m\u001b[0m\u001b[1;33m\u001b[0m\u001b[0m\n\u001b[0;32m      2\u001b[0m \u001b[1;33m\u001b[0m\u001b[0m\n\u001b[1;32m----> 3\u001b[1;33m \u001b[1;32mfor\u001b[0m \u001b[0mi\u001b[0m \u001b[1;32min\u001b[0m \u001b[0mrange\u001b[0m\u001b[1;33m(\u001b[0m\u001b[0mlen\u001b[0m\u001b[1;33m(\u001b[0m\u001b[0mvacation_df\u001b[0m\u001b[1;33m)\u001b[0m\u001b[1;33m)\u001b[0m\u001b[1;33m:\u001b[0m\u001b[1;33m\u001b[0m\u001b[1;33m\u001b[0m\u001b[0m\n\u001b[0m\u001b[0;32m      4\u001b[0m     \u001b[0mlat\u001b[0m \u001b[1;33m=\u001b[0m \u001b[0mvacation_df\u001b[0m\u001b[1;33m.\u001b[0m\u001b[0mloc\u001b[0m\u001b[1;33m[\u001b[0m\u001b[0mvacation_df\u001b[0m\u001b[1;33m[\u001b[0m\u001b[1;34m'latitude'\u001b[0m\u001b[1;33m]\u001b[0m\u001b[1;33m]\u001b[0m\u001b[1;33m\u001b[0m\u001b[1;33m\u001b[0m\u001b[0m\n\u001b[0;32m      5\u001b[0m     \u001b[0mlng\u001b[0m \u001b[1;33m=\u001b[0m \u001b[0mvacation_df\u001b[0m\u001b[1;33m.\u001b[0m\u001b[0mloc\u001b[0m\u001b[1;33m[\u001b[0m\u001b[0mvacation_df\u001b[0m\u001b[1;33m[\u001b[0m\u001b[1;34m'longitude'\u001b[0m\u001b[1;33m]\u001b[0m\u001b[1;33m]\u001b[0m\u001b[1;33m\u001b[0m\u001b[1;33m\u001b[0m\u001b[0m\n",
      "\u001b[1;31mNameError\u001b[0m: name 'vacation_df' is not defined"
     ]
    }
   ],
   "source": [
    "hotellist = []\n",
    "\n",
    "for i in range(len(vacation_df)):\n",
    "    lat = vacation_df.loc[vacation_df['latitude']]\n",
    "    lng = vacation_df.loc[vacation_df['longitude']]\n",
    "\n",
    "    params = {\n",
    "        \"location\": f\"{lat},{lng}\",\n",
    "        \"radius\": 5000,\n",
    "        \"types\" : \"hotel\",\n",
    "        \"key\": Gkey\n",
    "    }\n",
    "    \n",
    "    base_url = \"https://maps.googleapis.com/maps/api/place/nearbysearch/json\"\n",
    "    requested = requests.get(base_url, params=params)\n",
    "    jsn = requested.json()\n",
    "    try:\n",
    "        hotellist.append(jsn['results'][0]['name'])\n",
    "    except:\n",
    "        hotellist.append(\"\")\n",
    "narrowed_city_df[\"Hotel Name\"] = hotellist\n",
    "narrowed_city_df = narrowed_city_df.dropna(how='any')\n",
    "narrowed_city_df.head()"
   ]
  },
  {
   "cell_type": "markdown",
   "metadata": {},
   "source": [
    " # extract results\n",
    "    results = response['results']\n",
    "    \n",
    "    try:\n",
    "        hotelname = response['results'][0]['name']\n",
    "        print(f\"Closest hotel to {city} at {latitude} , {longitude} is {hotelname}.\")        \n",
    "        vacation_df.loc[index, 'nearest hotel'] = results['name']\n",
    "        \n",
    "    except (KeyError, IndexError):\n",
    "        print(\"Missing field/result... skipping.\")\n",
    "        \n",
    "    print(\"------------\")"
   ]
  },
  {
   "cell_type": "code",
   "execution_count": null,
   "metadata": {},
   "outputs": [],
   "source": [
    "#Plot the hotels on top of the humidity heatmap with each pin containing the **Hotel Name**, **City**, and **Country**."
   ]
  }
 ],
 "metadata": {
  "kernelspec": {
   "display_name": "Python 3",
   "language": "python",
   "name": "python3"
  },
  "language_info": {
   "codemirror_mode": {
    "name": "ipython",
    "version": 3
   },
   "file_extension": ".py",
   "mimetype": "text/x-python",
   "name": "python",
   "nbconvert_exporter": "python",
   "pygments_lexer": "ipython3",
   "version": "3.7.7"
  }
 },
 "nbformat": 4,
 "nbformat_minor": 4
}
